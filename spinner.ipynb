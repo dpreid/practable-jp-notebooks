{
  "cells": [
    {
      "attachments": {},
      "cell_type": "markdown",
      "metadata": {
        "tags": []
      },
      "source": [
        "# Data analysis with the spinner remote laboratory"
      ]
    },
    {
      "cell_type": "markdown",
      "metadata": {},
      "source": [
        "# Import necessary packages"
      ]
    },
    {
      "cell_type": "code",
      "execution_count": 2,
      "metadata": {
        "trusted": true
      },
      "outputs": [],
      "source": [
        "# import piplite\n",
        "# await piplite.install(\"practable\")\n",
        "import matplotlib.pyplot as plt\n",
        "import numpy as np\n",
        "from practable.core import Experiment\n",
        "import time"
      ]
    },
    {
      "cell_type": "code",
      "execution_count": null,
      "metadata": {},
      "outputs": [],
      "source": []
    },
    {
      "cell_type": "markdown",
      "metadata": {},
      "source": [
        "## An array will store the data gathered from the experiment"
      ]
    },
    {
      "cell_type": "code",
      "execution_count": null,
      "metadata": {},
      "outputs": [],
      "source": [
        "messages = []"
      ]
    },
    {
      "cell_type": "markdown",
      "metadata": {},
      "source": [
        "# Get an experiment and collect data for a set time"
      ]
    },
    {
      "cell_type": "code",
      "execution_count": null,
      "metadata": {},
      "outputs": [],
      "source": [
        "with Experiment('g-open-x3fca8', 'Spinner 51 (Open Days)', exact=True) as expt:\n",
        "    \n",
        "    # Command a step of 2 radians & collect the data\n",
        "    expt.command('{\"set\":\"mode\",\"to\":\"stop\"}')\n",
        "    expt.command('{\"set\":\"mode\",\"to\":\"position\"}')\n",
        "    expt.command('{\"set\":\"parameters\",\"kp\":1,\"ki\":0,\"kd\":0}')\n",
        "\n",
        "    time.sleep(0.5)\n",
        "        \n",
        "    expt.command('{\"set\":\"position\",\"to\":2}')    \n",
        "    \n",
        "    expt.ignore(0.5)\n",
        "    messages = expt.collect(1.5)\n",
        "    \n",
        "    # Process the data\n",
        "    ts = expt.extract_series(messages, \"t\")\n",
        "    ds = expt.extract_series(messages, \"d\")\n",
        "    cs = expt.extract_series(messages, \"c\")\n",
        "    \n",
        "    t = np.array(ts)\n",
        "    t = t - t[0]\n",
        "    \n",
        "    # Plot the data\n",
        "    plt.figure()        \n",
        "    plt.plot(t/1e3,ds,'-b',label=\"position\")\n",
        "    plt.plot(t/1e3,cs,':r',label=\"set point\")\n",
        "    plt.xlabel(\"time(s)\")\n",
        "    plt.ylabel(\"position(rad)\")\n",
        "    plt.legend()"
      ]
    },
    {
      "cell_type": "markdown",
      "metadata": {},
      "source": [
        "# Now analyse the collected data"
      ]
    },
    {
      "cell_type": "code",
      "execution_count": null,
      "metadata": {},
      "outputs": [],
      "source": [
        "print(messages)"
      ]
    }
  ],
  "metadata": {
    "kernelspec": {
      "display_name": ".venv",
      "language": "python",
      "name": "python3"
    },
    "language_info": {
      "codemirror_mode": {
        "name": "ipython",
        "version": 3
      },
      "file_extension": ".py",
      "mimetype": "text/x-python",
      "name": "python",
      "nbconvert_exporter": "python",
      "pygments_lexer": "ipython3",
      "version": "3.12.4"
    },
    "orig_nbformat": 4
  },
  "nbformat": 4,
  "nbformat_minor": 4
}
